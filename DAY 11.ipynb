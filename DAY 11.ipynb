{
 "cells": [
  {
   "cell_type": "markdown",
   "metadata": {},
   "source": [
    "# Problem Solving and Progarmming\n",
    "\n",
    "## Day No. -  DAY 11\n",
    "\n",
    "## Date - 9th May 2019"
   ]
  },
  {
   "cell_type": "markdown",
   "metadata": {},
   "source": [
    "### Day Objectives\n",
    "    * Greet\n",
    "    * Objective 2\n",
    "    * Objective 3"
   ]
  },
  {
   "cell_type": "markdown",
   "metadata": {},
   "source": [
    "### Problem 1:\n",
    "\n",
    "#### Problem Statement\n",
    "\n",
    "Greet\n",
    "\n",
    "#### Constraints\n",
    "\n",
    "\n",
    "#### Test Cases:\n",
    "\n",
    "  "
   ]
  },
  {
   "cell_type": "code",
   "execution_count": 3,
   "metadata": {
    "scrolled": true
   },
   "outputs": [
    {
     "name": "stdout",
     "output_type": "stream",
     "text": [
      "Hello\n"
     ]
    }
   ],
   "source": [
    "print(\"Hello\")"
   ]
  },
  {
   "cell_type": "markdown",
   "metadata": {},
   "source": [
    "### Problem 2:\n",
    "\n",
    "#### Problem Statement\n",
    "\n",
    "Arithrmatic Operations\n",
    "\n",
    "#### Constraints\n",
    "\n",
    "\n",
    "#### Test Cases:\n",
    "\n",
    "  "
   ]
  },
  {
   "cell_type": "code",
   "execution_count": 24,
   "metadata": {},
   "outputs": [
    {
     "data": {
      "text/plain": [
       "1641312"
      ]
     },
     "execution_count": 24,
     "metadata": {},
     "output_type": "execute_result"
    }
   ],
   "source": [
    "a=123\n",
    "b=13344\n",
    "a+b\n",
    "a-b\n",
    "a*b\n",
    "a/b\n",
    "a%b"
   ]
  },
  {
   "cell_type": "markdown",
   "metadata": {},
   "source": [
    "### Problem 3:\n",
    "\n",
    "#### Problem Statement\n",
    "\n",
    "Even or Odd\n",
    "\n",
    "#### Constraints\n",
    "\n",
    "\n",
    "#### Test Cases:\n",
    "\n",
    "  "
   ]
  },
  {
   "cell_type": "code",
   "execution_count": 32,
   "metadata": {},
   "outputs": [
    {
     "name": "stdout",
     "output_type": "stream",
     "text": [
      "Odd\n"
     ]
    }
   ],
   "source": [
    "def check(n):\n",
    "    if (n % 2 == 0 ):\n",
    "        print(\"Even\")\n",
    "    else:\n",
    "        print(\"Odd\")\n",
    "    \n",
    "check(13)"
   ]
  },
  {
   "cell_type": "markdown",
   "metadata": {},
   "source": [
    "### Problem 4:\n",
    "\n",
    "#### Problem Statement\n",
    "\n",
    "Which is Greater Number\n",
    "\n",
    "#### Constraints\n",
    "\n",
    "\n",
    "#### Test Cases:\n",
    "\n",
    "  "
   ]
  },
  {
   "cell_type": "code",
   "execution_count": 36,
   "metadata": {},
   "outputs": [
    {
     "name": "stdout",
     "output_type": "stream",
     "text": [
      "c is Greater\n"
     ]
    }
   ],
   "source": [
    "def check(a,b,c):\n",
    "    if (a>b) and (a>c):\n",
    "        print(\"a is Greater\")\n",
    "    elif (b>c):\n",
    "        print(\"b is Greater\")\n",
    "    else :\n",
    "        print(\"c is Greater\")\n",
    "        \n",
    "check(2,3,9)"
   ]
  },
  {
   "cell_type": "markdown",
   "metadata": {},
   "source": [
    "### Problem 5:\n",
    "\n",
    "#### Problem Statement\n",
    "Given 2 ints, a and b, return True if one if them is 10 or if their sum is 10.\n",
    "\n",
    "#### Constraints\n",
    "\n",
    "\n",
    "#### Test Cases:\n",
    "* makes10(9, 10) → True\n",
    "* makes10(9, 9) → False\n",
    "* makes10(1, 9) → True\n",
    "  "
   ]
  },
  {
   "cell_type": "code",
   "execution_count": 43,
   "metadata": {},
   "outputs": [
    {
     "name": "stdout",
     "output_type": "stream",
     "text": [
      "True\n"
     ]
    }
   ],
   "source": [
    "def check(a,b):\n",
    "    if (a==10) or (b==10) or (a+b==10):\n",
    "        print(\"True\")\n",
    "    else :\n",
    "        print(\"False\")\n",
    "\n",
    "check(4,6)"
   ]
  },
  {
   "cell_type": "markdown",
   "metadata": {},
   "source": [
    "### Problem 6:\n",
    "\n",
    "#### Problem Statement\n",
    "Given 2 int values, return True if one is negative and one is positive. Except if the parameter \"negative\" is True, then return True only if both are negative.\n",
    "\n",
    "#### Constraints\n",
    "\n",
    "\n",
    "#### Test Cases:\n",
    "\n",
    "    *pos_neg(1, -1, False) → True\n",
    "    *pos_neg(-1, 1, False) → True\n",
    "    *pos_neg(-4, -5, True) → True\n",
    "    *pos_neg(-1, 1, True) →  False\n",
    "    *pos_neg(1,  6, True) →  False"
   ]
  },
  {
   "cell_type": "code",
   "execution_count": 29,
   "metadata": {},
   "outputs": [
    {
     "name": "stdout",
     "output_type": "stream",
     "text": [
      "True\n",
      "True\n",
      "True\n",
      "False\n",
      "False\n"
     ]
    }
   ],
   "source": [
    "def pos_neg(n1,n2,b):\n",
    "    if ((n1<0 and n2>0 and b==False) or (n1>0 and n2<0 and b==False) or (n1<0 and n2<0 and b==True)):\n",
    "        return True\n",
    "    else :\n",
    "        return False\n",
    "       \n",
    "print(pos_neg(1, -1, False))\n",
    "print(pos_neg(-1, 1, False))\n",
    "print(pos_neg(-4, -5, True))\n",
    "print(pos_neg(-1, 1, True))\n",
    "print(pos_neg(1,  6, True))"
   ]
  },
  {
   "cell_type": "markdown",
   "metadata": {},
   "source": [
    "### Problem 7:\n",
    "\n",
    "#### Problem Statement\n",
    "Given an int n, return True if it is within 10 of 100 or 200. Note: abs(num) computes the absolute value of a number.\n",
    "\n",
    "#### Constraints\n",
    "\n",
    "\n",
    "#### Test Cases:\n",
    "* near_hundred(93) → True\n",
    "* near_hundred(90) → True\n",
    "* near_hundred(89) → False\n",
    "  "
   ]
  },
  {
   "cell_type": "code",
   "execution_count": 46,
   "metadata": {},
   "outputs": [
    {
     "data": {
      "text/plain": [
       "True"
      ]
     },
     "execution_count": 46,
     "metadata": {},
     "output_type": "execute_result"
    }
   ],
   "source": [
    "def near_hundred(n):\n",
    "    if (10<=n and n<=100):\n",
    "        return True\n",
    "    else:\n",
    "        return False\n",
    "near_hundred(10)"
   ]
  },
  {
   "cell_type": "markdown",
   "metadata": {},
   "source": [
    "### Problem 8:\n",
    "\n",
    "#### Problem Statement\n",
    "Create a Random Number Generator as a Procedure which takes the Range(lb, ub) and returns a Random number in the given range\n",
    "\n",
    "#### Constraints\n",
    "\n",
    "\n",
    "#### Test Cases:\n",
    "\n",
    "  "
   ]
  },
  {
   "cell_type": "code",
   "execution_count": 67,
   "metadata": {},
   "outputs": [
    {
     "data": {
      "text/plain": [
       "7"
      ]
     },
     "execution_count": 67,
     "metadata": {},
     "output_type": "execute_result"
    }
   ],
   "source": [
    "import random\n",
    "\n",
    "def randomGenerator(lb,ub):\n",
    "    return random.randrange(lb+1,ub)\n",
    "\n",
    "randomGenerator(1,10)"
   ]
  },
  {
   "cell_type": "markdown",
   "metadata": {},
   "source": [
    "### Problem 9:\n",
    "\n",
    "#### Problem Statement\n",
    "Create a Random Number Generator as a Procedure which takes the Range(lb, ub) and returns the sum\n",
    "\n",
    "#### Constraints\n",
    "\n",
    "\n",
    "#### Test Cases:\n",
    "\n",
    "  "
   ]
  },
  {
   "cell_type": "code",
   "execution_count": 77,
   "metadata": {},
   "outputs": [
    {
     "data": {
      "text/plain": [
       "51694491"
      ]
     },
     "execution_count": 77,
     "metadata": {},
     "output_type": "execute_result"
    }
   ],
   "source": [
    "import random\n",
    "\n",
    "def sumRandomNumbers(n,lb,ub):\n",
    "    sum=1\n",
    "    for count in range(1,n+1):\n",
    "        sum=sum+random.randint(lb,ub)\n",
    "    return sum\n",
    "\n",
    "sumRandomNumbers(100,10000,1000000)\n"
   ]
  },
  {
   "cell_type": "markdown",
   "metadata": {},
   "source": [
    "### Problem 10:\n",
    "\n",
    "#### Problem Statement\n",
    "Design a procedure to perform Linear search on list of N unsorted unique numbers. It take an array and the key element to be searched and returns the index of the element of key element if found. Else returns -1\n",
    "\n",
    "#### Constraints\n",
    "\n",
    "\n",
    "#### Test Cases:\n",
    "* linearSearch([1,2,3,4,5],3) -> 2\n",
    "* linearSearch([90, 123, 324, 21, 56], 22) -> -1\n",
    "* linearSearch([5646,46464,423,5656],5656) -> 3"
   ]
  },
  {
   "cell_type": "code",
   "execution_count": 9,
   "metadata": {},
   "outputs": [
    {
     "name": "stdout",
     "output_type": "stream",
     "text": [
      "2\n",
      "-1\n",
      "3\n"
     ]
    }
   ],
   "source": [
    "a=[1,2,3,4,5]\n",
    "def linearSearch (a,key):\n",
    "    for i in range (0,len(a)):\n",
    "        if(a[i]==key):\n",
    "            return i\n",
    "    return -1\n",
    "\n",
    "print(linearSearch([1,2,3,4,5],3))\n",
    "print(linearSearch([90, 123, 324, 21, 56], 22))\n",
    "print(linearSearch([5646,46464,423,5656],5656))"
   ]
  },
  {
   "cell_type": "markdown",
   "metadata": {},
   "source": [
    "### Problem 11:\n",
    "\n",
    "#### Problem Statement\n",
    "Factorial of Number\n",
    "\n",
    "#### Constraints\n",
    "\n",
    "\n",
    "#### Test Cases:\n",
    "\n",
    "  "
   ]
  },
  {
   "cell_type": "code",
   "execution_count": 73,
   "metadata": {},
   "outputs": [
    {
     "data": {
      "text/plain": [
       "2432902008176640000"
      ]
     },
     "execution_count": 73,
     "metadata": {},
     "output_type": "execute_result"
    }
   ],
   "source": [
    "def factorial(num):\n",
    "    if num==1 or num==0:\n",
    "        return 1\n",
    "    else:\n",
    "        return num*factorial(num-1)\n",
    "        \n",
    "factorial(20)"
   ]
  },
  {
   "cell_type": "markdown",
   "metadata": {},
   "source": [
    "### Problem 12:\n",
    "\n",
    "#### Problem Statement\n",
    "\n",
    "Palindrome or Not\n",
    "\n",
    "#### Constraints\n",
    "\n",
    "\n",
    "#### Test Cases:\n",
    "* palindrome(\"racecar\") -> True\n",
    "  "
   ]
  },
  {
   "cell_type": "code",
   "execution_count": 74,
   "metadata": {},
   "outputs": [
    {
     "name": "stdout",
     "output_type": "stream",
     "text": [
      "Palindrome\n"
     ]
    },
    {
     "data": {
      "text/plain": [
       "True"
      ]
     },
     "execution_count": 74,
     "metadata": {},
     "output_type": "execute_result"
    }
   ],
   "source": [
    "def palindrome(n):\n",
    "    a = n[-1::-1]\n",
    "    if (n == a):\n",
    "        print(\"Palindrome\")\n",
    "        return True\n",
    "    else:\n",
    "        print(\"Not Palindrome\")\n",
    "        return False\n",
    "palindrome(\"racecar\")"
   ]
  },
  {
   "cell_type": "markdown",
   "metadata": {},
   "source": [
    "### Problem 13:\n",
    "\n",
    "#### Problem Statement\n",
    "Multiplication Table\n",
    "\n",
    "#### Constraints\n",
    "\n",
    "\n",
    "#### Test Cases:\n",
    "* multable(4,2,10)\n",
    "  "
   ]
  },
  {
   "cell_type": "code",
   "execution_count": 81,
   "metadata": {
    "scrolled": true
   },
   "outputs": [
    {
     "name": "stdout",
     "output_type": "stream",
     "text": [
      "4 X 2 = 8\n",
      "4 X 3 = 12\n",
      "4 X 4 = 16\n",
      "4 X 5 = 20\n",
      "4 X 6 = 24\n",
      "4 X 7 = 28\n",
      "4 X 8 = 32\n",
      "4 X 9 = 36\n",
      "4 X 10 = 40\n"
     ]
    }
   ],
   "source": [
    "def multable(a,n1,n2):\n",
    "    for n1 in range (n1,n2+1):\n",
    "        print(a,\"X\",n1,\"=\",a*n1)\n",
    "        \n",
    "multable(4,2,10)    \n"
   ]
  },
  {
   "cell_type": "markdown",
   "metadata": {},
   "source": [
    "### Problem 14:\n",
    "\n",
    "#### Problem Statement\n",
    "Check iF Prime or Not\n",
    "\n",
    "#### Constraints\n",
    "\n",
    "\n",
    "#### Test Cases:\n",
    "prime(97) -> True\n",
    "  "
   ]
  },
  {
   "cell_type": "code",
   "execution_count": 45,
   "metadata": {
    "scrolled": true
   },
   "outputs": [
    {
     "data": {
      "text/plain": [
       "True"
      ]
     },
     "execution_count": 45,
     "metadata": {},
     "output_type": "execute_result"
    }
   ],
   "source": [
    "def prime(n):\n",
    "    if (n==2 or n==3 or n==5 or n==7):\n",
    "        return True\n",
    "    elif (n%2==0 or n%3==0 or n%5==0 or n%7==0 or n==1):\n",
    "        return False\n",
    "    else :\n",
    "        return True\n",
    "* prime(97)"
   ]
  },
  {
   "cell_type": "markdown",
   "metadata": {},
   "source": [
    "### Problem 15:\n",
    "\n",
    "#### Problem Statement\n",
    "Square Root Of Number \n",
    "\n",
    "#### Constraints\n",
    "\n",
    "\n",
    "#### Test Cases:\n",
    "\n",
    "  "
   ]
  },
  {
   "cell_type": "code",
   "execution_count": 80,
   "metadata": {},
   "outputs": [
    {
     "data": {
      "text/plain": [
       "6.782329983125268"
      ]
     },
     "execution_count": 80,
     "metadata": {},
     "output_type": "execute_result"
    }
   ],
   "source": [
    "def squareroot(n):\n",
    "    a = (n)**0.5\n",
    "    return a\n",
    "squareroot(46)"
   ]
  }
 ],
 "metadata": {
  "kernelspec": {
   "display_name": "Python 3",
   "language": "python",
   "name": "python3"
  },
  "language_info": {
   "codemirror_mode": {
    "name": "ipython",
    "version": 3
   },
   "file_extension": ".py",
   "mimetype": "text/x-python",
   "name": "python",
   "nbconvert_exporter": "python",
   "pygments_lexer": "ipython3",
   "version": "3.7.3"
  }
 },
 "nbformat": 4,
 "nbformat_minor": 2
}
