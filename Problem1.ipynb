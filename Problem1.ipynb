{
 "cells": [
  {
   "cell_type": "markdown",
   "metadata": {},
   "source": [
    "# Problem Solving and Progarmming\n",
    "\n",
    "## Day No. -  10\n",
    "\n",
    "## Date - 8th May 2019"
   ]
  },
  {
   "cell_type": "markdown",
   "metadata": {},
   "source": [
    "### Day Objectives\n",
    "    * Objective 1\n",
    "    * Objective 2\n",
    "    * Objective 3"
   ]
  },
  {
   "cell_type": "markdown",
   "metadata": {},
   "source": [
    "### Problem 1:\n",
    "\n",
    "#### Problem Statement\n",
    "\n",
    "For a given number, check if divisible by 2 and 3 but not 4\n",
    "\n",
    "#### Constraints\n",
    "\n",
    "Given number will be in the range [1,100000000]\n",
    "\n",
    "#### Test Cases:\n",
    "\n",
    "    * checkDivisibility(6) -> True\n",
    "    * checkDivisibility(16) -> False\n",
    "    * checkDivisibility(20) -> False"
   ]
  },
  {
   "cell_type": "code",
   "execution_count": 10,
   "metadata": {},
   "outputs": [
    {
     "data": {
      "text/plain": [
       "True"
      ]
     },
     "execution_count": 10,
     "metadata": {},
     "output_type": "execute_result"
    }
   ],
   "source": [
    "def checkDivisibility(n):\n",
    "    if (n % 2 == 0 and n % 3 == 0 and n % 4 != 0):\n",
    "        return True\n",
    "    else:\n",
    "        return False\n",
    "    \n",
    "checkDivisibility(6)"
   ]
  }
 ],
 "metadata": {
  "kernelspec": {
   "display_name": "Python 3",
   "language": "python",
   "name": "python3"
  },
  "language_info": {
   "codemirror_mode": {
    "name": "ipython",
    "version": 3
   },
   "file_extension": ".py",
   "mimetype": "text/x-python",
   "name": "python",
   "nbconvert_exporter": "python",
   "pygments_lexer": "ipython3",
   "version": "3.7.3"
  }
 },
 "nbformat": 4,
 "nbformat_minor": 2
}
