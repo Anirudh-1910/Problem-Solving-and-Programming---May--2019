{
 "cells": [
  {
   "cell_type": "markdown",
   "metadata": {},
   "source": [
    "# Problem Solving and Progarmming\n",
    "\n",
    "## Day No. - \n",
    "\n",
    "## Date -  May 2019"
   ]
  },
  {
   "cell_type": "markdown",
   "metadata": {},
   "source": [
    "### Day Objectives\n",
    "    * Objective 1\n",
    "    * Objective 2\n",
    "    * Objective 3"
   ]
  },
  {
   "cell_type": "markdown",
   "metadata": {},
   "source": [
    "### Problem 1:\n",
    "\n",
    "#### Problem Statement\n",
    "Define a function to identity the number of times a substring is repeating in a given string.\n",
    "\n",
    "\n",
    "#### Constraints\n",
    "\n",
    "\n",
    "\n",
    "#### Test Cases:\n",
    "\n",
    "* substringCount('str', 'substr') -> 1\n",
    "* substringCount('1234567891122334455', '3') -> 3\n",
    "* substringCount('abccddccc', 'cc') -> 3\n",
    "* substringCount('aaaaaaa', 'aaa' ) -> 5"
   ]
  },
  {
   "cell_type": "code",
   "execution_count": null,
   "metadata": {},
   "outputs": [],
   "source": [
    "def linearSearch (a,key):\n",
    "    for i in range (0,len(a)):\n",
    "        if(a[i]==key):\n",
    "            return len(i)\n",
    "    return \n",
    "\n",
    "linearSearch('1234567891122334455','3')"
   ]
  },
  {
   "cell_type": "markdown",
   "metadata": {},
   "source": [
    "### Problem 2:\n",
    "\n",
    "#### Problem Statement\n",
    "Define a function to check if a given year is a leap year. Returns a boolean value.\n",
    "\n",
    "\n",
    "#### Constraints\n",
    "\n",
    "\n",
    "\n",
    "#### Test Cases:\n",
    "\n",
    "* 2000 -> True\n",
    "* 1900 -> False\n",
    "* 2012 -> True\n",
    "* 2020 -> True\n",
    "* 0200 -> False"
   ]
  },
  {
   "cell_type": "code",
   "execution_count": null,
   "metadata": {},
   "outputs": [],
   "source": [
    "def leapYear(n):\n",
    "    if (n%400==0 or n%100!=0):\n",
    "        return True\n",
    "    elif (n%4!=0):\n",
    "        return False\n",
    "    else:\n",
    "        return False\n",
    "print(leapYear(2000))\n",
    "print(leapYear(1900))\n",
    "print(leapYear(2012))\n",
    "print(leapYear(2020))\n",
    "print(leapYear(200))"
   ]
  },
  {
   "cell_type": "markdown",
   "metadata": {},
   "source": [
    "### Problem 3:\n",
    "Define a function to convert a decimal number to the corresponding binary number.\n",
    "\n",
    "#### Problem Statement\n",
    "\n",
    "\n",
    "#### Constraints\n",
    "\n",
    "\n",
    "\n",
    "#### Test Cases:\n",
    "\n",
    "* decimalToBinary(15) -> 1111\n",
    "* decimalToBinary(1) -> 1"
   ]
  },
  {
   "cell_type": "code",
   "execution_count": null,
   "metadata": {},
   "outputs": [],
   "source": [
    "def decimalToBinary(n):\n",
    "    if n>1:\n",
    "        decimalToBinary(n//2)\n",
    "    print(n%2, end=' ')\n",
    "decimalToBinary(7)"
   ]
  },
  {
   "cell_type": "markdown",
   "metadata": {},
   "source": [
    "### Problem 4:\n",
    "Define a function to convert a binary number to the corresponding decimal number.\n",
    "\n",
    "#### Problem Statement\n",
    "\n",
    "\n",
    "#### Constraints\n",
    "\n",
    "\n",
    "\n",
    "#### Test Cases:\n",
    "* binaryToDecimal(1100) -> 12\n",
    "* binaryToDecimal(1010) -> 10\n",
    "* binaryToDecimal(111000) -> 56"
   ]
  },
  {
   "cell_type": "code",
   "execution_count": 8,
   "metadata": {},
   "outputs": [
    {
     "name": "stdout",
     "output_type": "stream",
     "text": [
      "7\n",
      "10\n",
      "56\n"
     ]
    }
   ],
   "source": [
    "def binaryToDecimal(n):\n",
    "    num=n\n",
    "    dec=0\n",
    "    base=1\n",
    "    temp=num\n",
    "    while(temp):\n",
    "        rem=temp%10\n",
    "        temp=temp//10\n",
    "        dec=dec+base*rem\n",
    "        base=base*2\n",
    "    return dec \n",
    "print(binaryToDecimal(111))\n",
    "print(binaryToDecimal(1010))\n",
    "print(binaryToDecimal(111000))"
   ]
  },
  {
   "cell_type": "markdown",
   "metadata": {},
   "source": [
    "### Problem 5:\n",
    "Define a function to merge the characters of two strings alternatively. \n",
    "The remaining characters of the longer string are printed in the same order at the end.\n",
    "\n",
    "#### Problem Statement\n",
    "\n",
    "\n",
    "#### Constraints\n",
    "\n",
    "\n",
    "\n",
    "#### Test Cases:\n",
    "* mergeString('abcd', 'abcd') -> 'aabbccdd'\n",
    "* mergeString('abc', '123456') -> 'a1b2c3456'\n",
    "* mergeString('0', '123456') -> '0123456'"
   ]
  },
  {
   "cell_type": "code",
   "execution_count": 14,
   "metadata": {},
   "outputs": [
    {
     "name": "stdout",
     "output_type": "stream",
     "text": [
      "aabbccdd\n",
      "a1b2c356\n",
      "013456\n"
     ]
    }
   ],
   "source": [
    "def mergeString(m,n):\n",
    "    x=len(m)\n",
    "    y=len(n)\n",
    "    z=''\n",
    "    if(x>y):\n",
    "        for i in range(y):\n",
    "            z=z+m[i]\n",
    "            z=z+n[i]\n",
    "        for i in range(y+1,x):\n",
    "            z=z+m[i]\n",
    "    elif(x<y):\n",
    "        for i in range(x):\n",
    "            z=z+m[i]\n",
    "            z=z+n[i]\n",
    "        for i in range(x+1,y):\n",
    "            z=z+n[i]\n",
    "    else:\n",
    "        for i in range(x):\n",
    "            z=z+m[i]\n",
    "            z=z+n[i]\n",
    "    return z\n",
    "print(mergeString('abcd', 'abcd'))\n",
    "print(mergeString('abc', '123456'))\n",
    "print(mergeString('0','123456'))"
   ]
  },
  {
   "cell_type": "markdown",
   "metadata": {},
   "source": [
    "### Problem 6:\n",
    "Define a function to identity the number of times a substring is repeating in a given string.\n",
    "\n",
    "#### Problem Statement\n",
    "\n",
    "\n",
    "#### Constraints\n",
    "\n",
    "\n",
    "\n",
    "#### Test Cases:\n",
    "* substringCount('str', 'substr') -> 1\n",
    "* substringCount('1234567891122334455', '3') -> 3\n",
    "* substringCount('abccddccc', 'cc') -> 3\n",
    "* substringCount('aaaaaaa', 'aaa' ) -> 5"
   ]
  },
  {
   "cell_type": "code",
   "execution_count": 15,
   "metadata": {},
   "outputs": [
    {
     "name": "stdout",
     "output_type": "stream",
     "text": [
      "1\n",
      "3\n",
      "3\n"
     ]
    }
   ],
   "source": [
    "def substringCount(str1,str2):\n",
    "    count=0\n",
    "    if len(str1)<= len(str2):\n",
    "        length = len(str1)\n",
    "        mstring = str2\n",
    "        sstring = str1\n",
    "    else:\n",
    "        length = len(str2)\n",
    "        mstring = str1\n",
    "        sstring = str2\n",
    "    for i in range(0,len(mstring)):\n",
    "        if(mstring[i:length] == sstring):\n",
    "            count += 1\n",
    "        length += 1\n",
    "    return count\n",
    "\n",
    "print(substringCount('str','substr'))\n",
    "print(substringCount('1234567891122334455', '3'))\n",
    "print(substringCount('abccddccc', 'cc'))"
   ]
  }
 ],
 "metadata": {
  "kernelspec": {
   "display_name": "Python 3",
   "language": "python",
   "name": "python3"
  },
  "language_info": {
   "codemirror_mode": {
    "name": "ipython",
    "version": 3
   },
   "file_extension": ".py",
   "mimetype": "text/x-python",
   "name": "python",
   "nbconvert_exporter": "python",
   "pygments_lexer": "ipython3",
   "version": "3.7.3"
  }
 },
 "nbformat": 4,
 "nbformat_minor": 2
}
