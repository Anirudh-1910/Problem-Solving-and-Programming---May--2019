{
 "cells": [
  {
   "cell_type": "markdown",
   "metadata": {},
   "source": [
    "# Problem Solving and Progarmming\n",
    "\n",
    "## Day No. - 12\n",
    "\n",
    "## Date - 10th May 2019"
   ]
  },
  {
   "cell_type": "markdown",
   "metadata": {},
   "source": [
    "### Day Objectives:\n",
    "    * Iterative Problems\n",
    "    * Concept of Recursion And Problems"
   ]
  },
  {
   "cell_type": "markdown",
   "metadata": {},
   "source": [
    "### Problem 1:\n",
    "\n",
    "#### Problem Statement\n",
    "To Determine the Factors of given Number.\n",
    "\n",
    "\n",
    "#### Constraints\n",
    "\n",
    "\n",
    "\n",
    "#### Test Cases:\n",
    "\n",
    "* print_factors(4) -> 1 2 4"
   ]
  },
  {
   "cell_type": "code",
   "execution_count": 25,
   "metadata": {
    "scrolled": true
   },
   "outputs": [
    {
     "name": "stdout",
     "output_type": "stream",
     "text": [
      "1\n",
      "2\n",
      "4\n"
     ]
    }
   ],
   "source": [
    "def print_factors(x):\n",
    "       for i in range(1, x + 1):\n",
    "            if x % i == 0:\n",
    "                print(i)\n",
    "print_factors(4)"
   ]
  },
  {
   "cell_type": "markdown",
   "metadata": {},
   "source": [
    "### Problem 2:\n",
    "\n",
    "#### Problem Statement\n",
    "To Calculate the Maximum,Minimum,Average of the given String.\n",
    "\n",
    "\n",
    "#### Constraints\n",
    "\n",
    "\n",
    "\n",
    "#### Test Cases:\n",
    "\n",
    "* Test Case 1\n",
    "* Test Case 2\n",
    "* Test Case 3"
   ]
  },
  {
   "cell_type": "code",
   "execution_count": 13,
   "metadata": {},
   "outputs": [
    {
     "name": "stdout",
     "output_type": "stream",
     "text": [
      "51\n",
      "4\n",
      "23.75\n"
     ]
    }
   ],
   "source": [
    "a=[4,5,51,5,41,41,12,31]\n",
    "print(max(a))\n",
    "print(min(a))\n",
    "print((sum(a))/len(a))"
   ]
  },
  {
   "cell_type": "markdown",
   "metadata": {},
   "source": [
    "### Problem 3:\n",
    "\n",
    "#### Problem Statement\n",
    "To find whether the given no. is Perfect or Not.\n",
    "\n",
    "\n",
    "#### Constraints\n",
    "\n",
    "\n",
    "\n",
    "#### Test Cases:\n",
    "\n",
    "* perfect(6) -> True"
   ]
  },
  {
   "cell_type": "code",
   "execution_count": 19,
   "metadata": {},
   "outputs": [
    {
     "data": {
      "text/plain": [
       "True"
      ]
     },
     "execution_count": 19,
     "metadata": {},
     "output_type": "execute_result"
    }
   ],
   "source": [
    "def perfect(x):\n",
    "    Sum=0\n",
    "    for i in range(1, x):\n",
    "        if(x % i == 0):\n",
    "            Sum = Sum + i\n",
    "    if (Sum == x):\n",
    "        return True\n",
    "    else:\n",
    "        return False\n",
    "        \n",
    "perfect(6)"
   ]
  },
  {
   "cell_type": "markdown",
   "metadata": {},
   "source": [
    "# Recursion"
   ]
  },
  {
   "cell_type": "markdown",
   "metadata": {},
   "source": [
    "### Problem 4:\n",
    "\n",
    "#### Problem Statement\n",
    "Power of given number.\n",
    "\n",
    "\n",
    "#### Constraints\n",
    "\n",
    "\n",
    "\n",
    "#### Test Cases:\n",
    "\n",
    "* recursivePower(3,100)"
   ]
  },
  {
   "cell_type": "code",
   "execution_count": 24,
   "metadata": {},
   "outputs": [
    {
     "data": {
      "text/plain": [
       "515377520732011331036461129765621272702107522001"
      ]
     },
     "execution_count": 24,
     "metadata": {},
     "output_type": "execute_result"
    }
   ],
   "source": [
    "def recursivePower(n,r):\n",
    "    if r==1:\n",
    "        return n\n",
    "    else:\n",
    "        return recursivePower(n,r-1)*n\n",
    "\n",
    "recursivePower(3,100)"
   ]
  },
  {
   "cell_type": "markdown",
   "metadata": {},
   "source": [
    "### Problem 5:\n",
    "\n",
    "#### Problem Statement\n",
    "Factorial of the given number.\n",
    "\n",
    "\n",
    "#### Constraints\n",
    "\n",
    "\n",
    "\n",
    "#### Test Cases:\n",
    "\n",
    "* recursiveFactorial(7) -> 5040"
   ]
  },
  {
   "cell_type": "code",
   "execution_count": 28,
   "metadata": {},
   "outputs": [
    {
     "data": {
      "text/plain": [
       "5040"
      ]
     },
     "execution_count": 28,
     "metadata": {},
     "output_type": "execute_result"
    }
   ],
   "source": [
    "def recursiveFactorial(n):\n",
    "    if n==1:\n",
    "        return n\n",
    "    else:\n",
    "        return recursiveFactorial(n-1)*n\n",
    "recursiveFactorial(7)"
   ]
  },
  {
   "cell_type": "markdown",
   "metadata": {},
   "source": [
    "### Problem 6:\n",
    "\n",
    "#### Problem Statement\n",
    "GCD of the given number.\n",
    "\n",
    "\n",
    "#### Constraints\n",
    "\n",
    "\n",
    "\n",
    "#### Test Cases:\n",
    "\n",
    "* gcdRecursive(41,12) -> 1"
   ]
  },
  {
   "cell_type": "code",
   "execution_count": 32,
   "metadata": {},
   "outputs": [
    {
     "data": {
      "text/plain": [
       "1"
      ]
     },
     "execution_count": 32,
     "metadata": {},
     "output_type": "execute_result"
    }
   ],
   "source": [
    "# GCD of two numbers remains the same when\n",
    "# smaller parameter is reduced yo the remainder\n",
    "# and larger parameter is replaced by smaller number\n",
    "# GCD(a,b )= GCD(b%a,a)\n",
    "def gcdRecursive(a,b):\n",
    "    if b%a==0:\n",
    "        return a\n",
    "    else:\n",
    "        return gcdRecursive(b%a,a)\n",
    "\n",
    "gcdRecursive(41,12)"
   ]
  },
  {
   "cell_type": "code",
   "execution_count": 40,
   "metadata": {},
   "outputs": [
    {
     "data": {
      "text/plain": [
       "1"
      ]
     },
     "execution_count": 40,
     "metadata": {},
     "output_type": "execute_result"
    }
   ],
   "source": [
    "# GCD Iterative\n",
    "\n",
    "def gcdIterative(a,b):\n",
    "    r=b%a\n",
    "    if (r==0):\n",
    "        return a\n",
    "    while (r!=0):\n",
    "        r=b%a   \n",
    "        b=a\n",
    "        a=r\n",
    "    return b\n",
    "gcdIterative(41,12)"
   ]
  },
  {
   "cell_type": "markdown",
   "metadata": {},
   "source": [
    "### Problem 7:\n",
    "\n",
    "#### Problem Statement\n",
    "\n",
    "\n",
    "\n",
    "#### Constraints\n",
    "\n",
    "\n",
    "\n",
    "#### Test Cases:\n",
    "\n",
    "* towerOfHanoi(2,'A','B','C') ->\n",
    "* Move 1 disk from A to B\n",
    "* Move 2 disk from A to C\n",
    "* Move 1 disk from B to C\n",
    "\n",
    "                               \n",
    "#### Explanation:\n",
    "* n Disks -> move n-1 disks to source to temperary\n",
    "             move nth disks from temp to dest\n",
    "             move n-1 disks from temp to dest\n",
    "* 3 Disks -> move 2 disks to source to temperary\n",
    "             move 3rd disks from temp to dest\n",
    "             move 2 disks from temp to dest"
   ]
  },
  {
   "cell_type": "code",
   "execution_count": 24,
   "metadata": {},
   "outputs": [
    {
     "name": "stdout",
     "output_type": "stream",
     "text": [
      "Move 1 disk from A to B\n",
      "Move 2 disk from A to C\n",
      "Move 1 disk from B to C\n"
     ]
    }
   ],
   "source": [
    "def towerOfHanoi(n,source,temp,dest):\n",
    "    if n==1:\n",
    "        print('Move',n,'disk from',source,'to',dest)\n",
    "        return\n",
    "    else:\n",
    "        towerOfHanoi(n-1,source,dest,temp)\n",
    "        print('Move',n,'disk from',source,'to',dest)\n",
    "        towerOfHanoi(n-1,temp,source,dest)\n",
    "        return\n",
    "towerOfHanoi(2,'A','B','C')"
   ]
  },
  {
   "cell_type": "markdown",
   "metadata": {},
   "source": [
    "### Problem 8:\n",
    "\n",
    "#### Problem Statement\n",
    "Fibonacci or Not.\n",
    "\n",
    "\n",
    "#### Constraints\n",
    "\n",
    "\n",
    "\n",
    "#### Test Cases:\n",
    "\n",
    "* recursiveFibonacci(15) -> 610"
   ]
  },
  {
   "cell_type": "code",
   "execution_count": 21,
   "metadata": {},
   "outputs": [
    {
     "data": {
      "text/plain": [
       "610"
      ]
     },
     "execution_count": 21,
     "metadata": {},
     "output_type": "execute_result"
    }
   ],
   "source": [
    "def recursiveFibonacci(n):\n",
    "    if n<0:\n",
    "        print(\"error\")\n",
    "    elif n==0:\n",
    "        return 0\n",
    "    elif n==1:\n",
    "        return 1\n",
    "    elif n==2:\n",
    "        return 1\n",
    "    else:\n",
    "        return recursiveFibonacci(n-1)+recursiveFibonacci(n-2)\n",
    "    \n",
    "recursiveFibonacci(15)"
   ]
  }
 ],
 "metadata": {
  "kernelspec": {
   "display_name": "Python 3",
   "language": "python",
   "name": "python3"
  },
  "language_info": {
   "codemirror_mode": {
    "name": "ipython",
    "version": 3
   },
   "file_extension": ".py",
   "mimetype": "text/x-python",
   "name": "python",
   "nbconvert_exporter": "python",
   "pygments_lexer": "ipython3",
   "version": "3.7.3"
  }
 },
 "nbformat": 4,
 "nbformat_minor": 2
}
